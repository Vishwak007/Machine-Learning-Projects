{
  "nbformat": 4,
  "nbformat_minor": 0,
  "metadata": {
    "colab": {
      "name": "Audio_Classification.ipynb",
      "provenance": []
    },
    "kernelspec": {
      "name": "python3",
      "display_name": "Python 3"
    },
    "language_info": {
      "name": "python"
    }
  },
  "cells": [
    {
      "cell_type": "code",
      "execution_count": null,
      "metadata": {
        "colab": {
          "base_uri": "https://localhost:8080/"
        },
        "id": "t1Wdt0kvHIbo",
        "outputId": "c91ffd8d-c908-478c-9037-acfaff00459d"
      },
      "outputs": [
        {
          "output_type": "stream",
          "name": "stdout",
          "text": [
            "Mounted at /content/drive\n"
          ]
        }
      ],
      "source": [
        "from google.colab import drive\n",
        "drive.mount('/content/drive')"
      ]
    },
    {
      "cell_type": "code",
      "source": [
        "!ls '/content/drive/My Drive/Dataset_Audio'"
      ],
      "metadata": {
        "colab": {
          "base_uri": "https://localhost:8080/"
        },
        "id": "w_VsSzOaHrI7",
        "outputId": "e36e427f-0e02-4ce1-d8c8-d3672285f30e"
      },
      "execution_count": null,
      "outputs": [
        {
          "output_type": "stream",
          "name": "stdout",
          "text": [
            "a_file.pkl  audio_dataset.csv  b_file.pkl\n"
          ]
        }
      ]
    },
    {
      "cell_type": "code",
      "source": [
        "import pathlib\n",
        "import pandas as pd\n",
        "import numpy as np\n",
        "import pickle\n",
        "import tensorflow as tf\n",
        "from tensorflow.keras import datasets, layers, models, Sequential\n",
        "from tensorflow.keras.callbacks import ModelCheckpoint\n",
        "from datetime import datetime\n",
        "\n",
        "\n"
      ],
      "metadata": {
        "id": "nO_RV4d0IWAz"
      },
      "execution_count": null,
      "outputs": []
    },
    {
      "cell_type": "code",
      "source": [
        "PATH = '/content/drive/My Drive/Dataset_Audio'"
      ],
      "metadata": {
        "id": "IKMF7YneKJRy"
      },
      "execution_count": null,
      "outputs": []
    },
    {
      "cell_type": "code",
      "source": [
        "!pip install pickle5"
      ],
      "metadata": {
        "colab": {
          "base_uri": "https://localhost:8080/"
        },
        "id": "KtP7FY3pHPxb",
        "outputId": "ce390231-4e54-4922-d6bb-6b568822c27b"
      },
      "execution_count": null,
      "outputs": [
        {
          "output_type": "stream",
          "name": "stdout",
          "text": [
            "Looking in indexes: https://pypi.org/simple, https://us-python.pkg.dev/colab-wheels/public/simple/\n",
            "Collecting pickle5\n",
            "  Downloading pickle5-0.0.12-cp37-cp37m-manylinux_2_5_x86_64.manylinux1_x86_64.whl (256 kB)\n",
            "\u001b[K     |████████████████████████████████| 256 kB 10.7 MB/s \n",
            "\u001b[?25hInstalling collected packages: pickle5\n",
            "Successfully installed pickle5-0.0.12\n"
          ]
        }
      ]
    },
    {
      "cell_type": "code",
      "source": [
        " pd.show_versions()"
      ],
      "metadata": {
        "colab": {
          "base_uri": "https://localhost:8080/"
        },
        "id": "IfuqRjLAMqzw",
        "outputId": "5ac05814-2974-47e5-8452-36ba235e5851"
      },
      "execution_count": null,
      "outputs": [
        {
          "output_type": "stream",
          "name": "stderr",
          "text": [
            "/usr/local/lib/python3.7/dist-packages/psycopg2/__init__.py:144: UserWarning: The psycopg2 wheel package will be renamed from release 2.8; in order to keep installing from binary please use \"pip install psycopg2-binary\" instead. For details see: <http://initd.org/psycopg/docs/install.html#binary-install-from-pypi>.\n",
            "  \"\"\")\n"
          ]
        },
        {
          "output_type": "stream",
          "name": "stdout",
          "text": [
            "\n",
            "INSTALLED VERSIONS\n",
            "------------------\n",
            "commit           : 66e3805b8cabe977f40c05259cc3fcf7ead5687d\n",
            "python           : 3.7.13.final.0\n",
            "python-bits      : 64\n",
            "OS               : Linux\n",
            "OS-release       : 5.4.188+\n",
            "Version          : #1 SMP Sun Apr 24 10:03:06 PDT 2022\n",
            "machine          : x86_64\n",
            "processor        : x86_64\n",
            "byteorder        : little\n",
            "LC_ALL           : None\n",
            "LANG             : en_US.UTF-8\n",
            "LOCALE           : en_US.UTF-8\n",
            "\n",
            "pandas           : 1.3.5\n",
            "numpy            : 1.21.6\n",
            "pytz             : 2022.1\n",
            "dateutil         : 2.8.2\n",
            "pip              : 21.1.3\n",
            "setuptools       : 57.4.0\n",
            "Cython           : 0.29.30\n",
            "pytest           : 3.6.4\n",
            "hypothesis       : None\n",
            "sphinx           : 1.8.6\n",
            "blosc            : None\n",
            "feather          : 0.4.1\n",
            "xlsxwriter       : None\n",
            "lxml.etree       : 4.2.6\n",
            "html5lib         : 1.0.1\n",
            "pymysql          : None\n",
            "psycopg2         : 2.7.6.1 (dt dec pq3 ext lo64)\n",
            "jinja2           : 2.11.3\n",
            "IPython          : 5.5.0\n",
            "pandas_datareader: 0.9.0\n",
            "bs4              : 4.6.3\n",
            "bottleneck       : 1.3.4\n",
            "fsspec           : None\n",
            "fastparquet      : None\n",
            "gcsfs            : None\n",
            "matplotlib       : 3.2.2\n",
            "numexpr          : 2.8.1\n",
            "odfpy            : None\n",
            "openpyxl         : 3.0.10\n",
            "pandas_gbq       : 0.13.3\n",
            "pyarrow          : 6.0.1\n",
            "pyxlsb           : None\n",
            "s3fs             : None\n",
            "scipy            : 1.4.1\n",
            "sqlalchemy       : 1.4.36\n",
            "tables           : 3.7.0\n",
            "tabulate         : 0.8.9\n",
            "xarray           : 0.20.2\n",
            "xlrd             : 1.1.0\n",
            "xlwt             : 1.3.0\n",
            "numba            : 0.51.2\n"
          ]
        }
      ]
    },
    {
      "cell_type": "code",
      "source": [
        "pd.__version__"
      ],
      "metadata": {
        "colab": {
          "base_uri": "https://localhost:8080/",
          "height": 36
        },
        "id": "jsVCaio1NUow",
        "outputId": "0d4f6b4f-56b5-4add-f69d-c5678444999a"
      },
      "execution_count": null,
      "outputs": [
        {
          "output_type": "execute_result",
          "data": {
            "text/plain": [
              "'1.3.5'"
            ],
            "application/vnd.google.colaboratory.intrinsic+json": {
              "type": "string"
            }
          },
          "metadata": {},
          "execution_count": 10
        }
      ]
    },
    {
      "cell_type": "code",
      "source": [
        "import pickle5 as pickle\n",
        "import os\n",
        "filename = \"b_file.pkl\"\n",
        "embeded_path = os.path.join(PATH, filename)\n",
        "print(embeded_path)\n",
        "df = pickle.load(open(embeded_path, \"rb\"))"
      ],
      "metadata": {
        "colab": {
          "base_uri": "https://localhost:8080/"
        },
        "id": "v1agWbUgK5hI",
        "outputId": "19f54c2b-2ab2-4de0-d4e0-e2e1b9586c4a"
      },
      "execution_count": null,
      "outputs": [
        {
          "output_type": "stream",
          "name": "stdout",
          "text": [
            "/content/drive/My Drive/Dataset_Audio/b_file.pkl\n"
          ]
        }
      ]
    },
    {
      "cell_type": "code",
      "source": [
        "df.sample(10)"
      ],
      "metadata": {
        "colab": {
          "base_uri": "https://localhost:8080/",
          "height": 363
        },
        "id": "o1Os6nILtEHj",
        "outputId": "607bc0cf-79cf-474b-bcc4-7958020edbee"
      },
      "execution_count": null,
      "outputs": [
        {
          "output_type": "execute_result",
          "data": {
            "text/plain": [
              "                                                feature            class\n",
              "8520  [-136.49686, 131.54764, 3.1699705, 15.562571, ...            siren\n",
              "7235  [-371.9832, 113.60405, -29.303429, -36.158188,...         dog_bark\n",
              "49    [-52.131413, 82.88628, -51.220047, 50.278793, ...  air_conditioner\n",
              "434   [-377.78668, 108.821556, -20.100332, 16.211157...            siren\n",
              "5690  [-91.7747, 149.612, -47.145203, 36.447144, -19...       jackhammer\n",
              "5862  [-45.74934, -25.16432, -71.93873, -53.82235, -...         drilling\n",
              "6348  [-458.27475, 112.528404, 3.9562178, 40.88119, ...    engine_idling\n",
              "5073  [-175.23897, 93.03118, 11.159129, 26.863922, 0...     street_music\n",
              "633   [-150.4741, 120.16213, -24.488377, 21.923834, ...    engine_idling\n",
              "1256  [-88.993805, 93.74881, -31.624651, 16.68913, -...         drilling"
            ],
            "text/html": [
              "\n",
              "  <div id=\"df-a787b190-4eed-49f9-bc56-654b062c7a23\">\n",
              "    <div class=\"colab-df-container\">\n",
              "      <div>\n",
              "<style scoped>\n",
              "    .dataframe tbody tr th:only-of-type {\n",
              "        vertical-align: middle;\n",
              "    }\n",
              "\n",
              "    .dataframe tbody tr th {\n",
              "        vertical-align: top;\n",
              "    }\n",
              "\n",
              "    .dataframe thead th {\n",
              "        text-align: right;\n",
              "    }\n",
              "</style>\n",
              "<table border=\"1\" class=\"dataframe\">\n",
              "  <thead>\n",
              "    <tr style=\"text-align: right;\">\n",
              "      <th></th>\n",
              "      <th>feature</th>\n",
              "      <th>class</th>\n",
              "    </tr>\n",
              "  </thead>\n",
              "  <tbody>\n",
              "    <tr>\n",
              "      <th>8520</th>\n",
              "      <td>[-136.49686, 131.54764, 3.1699705, 15.562571, ...</td>\n",
              "      <td>siren</td>\n",
              "    </tr>\n",
              "    <tr>\n",
              "      <th>7235</th>\n",
              "      <td>[-371.9832, 113.60405, -29.303429, -36.158188,...</td>\n",
              "      <td>dog_bark</td>\n",
              "    </tr>\n",
              "    <tr>\n",
              "      <th>49</th>\n",
              "      <td>[-52.131413, 82.88628, -51.220047, 50.278793, ...</td>\n",
              "      <td>air_conditioner</td>\n",
              "    </tr>\n",
              "    <tr>\n",
              "      <th>434</th>\n",
              "      <td>[-377.78668, 108.821556, -20.100332, 16.211157...</td>\n",
              "      <td>siren</td>\n",
              "    </tr>\n",
              "    <tr>\n",
              "      <th>5690</th>\n",
              "      <td>[-91.7747, 149.612, -47.145203, 36.447144, -19...</td>\n",
              "      <td>jackhammer</td>\n",
              "    </tr>\n",
              "    <tr>\n",
              "      <th>5862</th>\n",
              "      <td>[-45.74934, -25.16432, -71.93873, -53.82235, -...</td>\n",
              "      <td>drilling</td>\n",
              "    </tr>\n",
              "    <tr>\n",
              "      <th>6348</th>\n",
              "      <td>[-458.27475, 112.528404, 3.9562178, 40.88119, ...</td>\n",
              "      <td>engine_idling</td>\n",
              "    </tr>\n",
              "    <tr>\n",
              "      <th>5073</th>\n",
              "      <td>[-175.23897, 93.03118, 11.159129, 26.863922, 0...</td>\n",
              "      <td>street_music</td>\n",
              "    </tr>\n",
              "    <tr>\n",
              "      <th>633</th>\n",
              "      <td>[-150.4741, 120.16213, -24.488377, 21.923834, ...</td>\n",
              "      <td>engine_idling</td>\n",
              "    </tr>\n",
              "    <tr>\n",
              "      <th>1256</th>\n",
              "      <td>[-88.993805, 93.74881, -31.624651, 16.68913, -...</td>\n",
              "      <td>drilling</td>\n",
              "    </tr>\n",
              "  </tbody>\n",
              "</table>\n",
              "</div>\n",
              "      <button class=\"colab-df-convert\" onclick=\"convertToInteractive('df-a787b190-4eed-49f9-bc56-654b062c7a23')\"\n",
              "              title=\"Convert this dataframe to an interactive table.\"\n",
              "              style=\"display:none;\">\n",
              "        \n",
              "  <svg xmlns=\"http://www.w3.org/2000/svg\" height=\"24px\"viewBox=\"0 0 24 24\"\n",
              "       width=\"24px\">\n",
              "    <path d=\"M0 0h24v24H0V0z\" fill=\"none\"/>\n",
              "    <path d=\"M18.56 5.44l.94 2.06.94-2.06 2.06-.94-2.06-.94-.94-2.06-.94 2.06-2.06.94zm-11 1L8.5 8.5l.94-2.06 2.06-.94-2.06-.94L8.5 2.5l-.94 2.06-2.06.94zm10 10l.94 2.06.94-2.06 2.06-.94-2.06-.94-.94-2.06-.94 2.06-2.06.94z\"/><path d=\"M17.41 7.96l-1.37-1.37c-.4-.4-.92-.59-1.43-.59-.52 0-1.04.2-1.43.59L10.3 9.45l-7.72 7.72c-.78.78-.78 2.05 0 2.83L4 21.41c.39.39.9.59 1.41.59.51 0 1.02-.2 1.41-.59l7.78-7.78 2.81-2.81c.8-.78.8-2.07 0-2.86zM5.41 20L4 18.59l7.72-7.72 1.47 1.35L5.41 20z\"/>\n",
              "  </svg>\n",
              "      </button>\n",
              "      \n",
              "  <style>\n",
              "    .colab-df-container {\n",
              "      display:flex;\n",
              "      flex-wrap:wrap;\n",
              "      gap: 12px;\n",
              "    }\n",
              "\n",
              "    .colab-df-convert {\n",
              "      background-color: #E8F0FE;\n",
              "      border: none;\n",
              "      border-radius: 50%;\n",
              "      cursor: pointer;\n",
              "      display: none;\n",
              "      fill: #1967D2;\n",
              "      height: 32px;\n",
              "      padding: 0 0 0 0;\n",
              "      width: 32px;\n",
              "    }\n",
              "\n",
              "    .colab-df-convert:hover {\n",
              "      background-color: #E2EBFA;\n",
              "      box-shadow: 0px 1px 2px rgba(60, 64, 67, 0.3), 0px 1px 3px 1px rgba(60, 64, 67, 0.15);\n",
              "      fill: #174EA6;\n",
              "    }\n",
              "\n",
              "    [theme=dark] .colab-df-convert {\n",
              "      background-color: #3B4455;\n",
              "      fill: #D2E3FC;\n",
              "    }\n",
              "\n",
              "    [theme=dark] .colab-df-convert:hover {\n",
              "      background-color: #434B5C;\n",
              "      box-shadow: 0px 1px 3px 1px rgba(0, 0, 0, 0.15);\n",
              "      filter: drop-shadow(0px 1px 2px rgba(0, 0, 0, 0.3));\n",
              "      fill: #FFFFFF;\n",
              "    }\n",
              "  </style>\n",
              "\n",
              "      <script>\n",
              "        const buttonEl =\n",
              "          document.querySelector('#df-a787b190-4eed-49f9-bc56-654b062c7a23 button.colab-df-convert');\n",
              "        buttonEl.style.display =\n",
              "          google.colab.kernel.accessAllowed ? 'block' : 'none';\n",
              "\n",
              "        async function convertToInteractive(key) {\n",
              "          const element = document.querySelector('#df-a787b190-4eed-49f9-bc56-654b062c7a23');\n",
              "          const dataTable =\n",
              "            await google.colab.kernel.invokeFunction('convertToInteractive',\n",
              "                                                     [key], {});\n",
              "          if (!dataTable) return;\n",
              "\n",
              "          const docLinkHtml = 'Like what you see? Visit the ' +\n",
              "            '<a target=\"_blank\" href=https://colab.research.google.com/notebooks/data_table.ipynb>data table notebook</a>'\n",
              "            + ' to learn more about interactive tables.';\n",
              "          element.innerHTML = '';\n",
              "          dataTable['output_type'] = 'display_data';\n",
              "          await google.colab.output.renderOutput(dataTable, element);\n",
              "          const docLink = document.createElement('div');\n",
              "          docLink.innerHTML = docLinkHtml;\n",
              "          element.appendChild(docLink);\n",
              "        }\n",
              "      </script>\n",
              "    </div>\n",
              "  </div>\n",
              "  "
            ]
          },
          "metadata": {},
          "execution_count": 12
        }
      ]
    },
    {
      "cell_type": "code",
      "source": [
        "print(df['feature'].shape)\n",
        "df['feature']"
      ],
      "metadata": {
        "colab": {
          "base_uri": "https://localhost:8080/"
        },
        "id": "ICrsym_KNo_2",
        "outputId": "00f9b43e-afe6-4079-f6bc-0e13cee7aa12"
      },
      "execution_count": null,
      "outputs": [
        {
          "output_type": "stream",
          "name": "stdout",
          "text": [
            "(8732,)\n"
          ]
        },
        {
          "output_type": "execute_result",
          "data": {
            "text/plain": [
              "0       [-218.18938, 71.38549, -131.49442, -52.25892, ...\n",
              "1       [-425.05234, 110.67095, -54.192833, 62.045414,...\n",
              "2       [-459.82623, 122.82864, -47.908062, 53.302677,...\n",
              "3       [-414.82184, 102.94826, -36.65685, 54.170742, ...\n",
              "4       [-447.60776, 115.08627, -53.74607, 61.55309, 1...\n",
              "                              ...                        \n",
              "8727    [-399.52393, 136.84413, -51.97703, 37.014854, ...\n",
              "8728    [-347.3277, 87.53586, -46.2994, 52.748062, -33...\n",
              "8729    [-304.84702, 112.69567, -47.21992, 37.061134, ...\n",
              "8730    [-345.06885, 126.78658, -56.18254, 36.07703, -...\n",
              "8731    [-316.331, 95.86536, -38.176315, 47.640114, -7...\n",
              "Name: feature, Length: 8732, dtype: object"
            ]
          },
          "metadata": {},
          "execution_count": 16
        }
      ]
    },
    {
      "cell_type": "code",
      "source": [
        "X = np.array(df['feature'].tolist())\n",
        "y = np.array(df['class'].tolist())\n",
        "X.shape"
      ],
      "metadata": {
        "colab": {
          "base_uri": "https://localhost:8080/"
        },
        "id": "X58ZlN7stWzI",
        "outputId": "3b98fdd8-06f9-430f-ee44-5ec9703ea028"
      },
      "execution_count": null,
      "outputs": [
        {
          "output_type": "execute_result",
          "data": {
            "text/plain": [
              "(8732, 40)"
            ]
          },
          "metadata": {},
          "execution_count": 13
        }
      ]
    },
    {
      "cell_type": "code",
      "source": [
        "X"
      ],
      "metadata": {
        "colab": {
          "base_uri": "https://localhost:8080/"
        },
        "id": "8cz-miK7Nxgk",
        "outputId": "0956afd0-9f70-4755-ade7-5cb639aa1935"
      },
      "execution_count": null,
      "outputs": [
        {
          "output_type": "execute_result",
          "data": {
            "text/plain": [
              "array([[-218.18938   ,   71.38549   , -131.49442   , ...,   -1.5696381 ,\n",
              "          -0.75472176,    0.5339845 ],\n",
              "       [-425.05234   ,  110.67095   ,  -54.192833  , ...,    0.6308664 ,\n",
              "          -0.6702724 ,    0.5963405 ],\n",
              "       [-459.82623   ,  122.82864   ,  -47.908062  , ...,    2.194272  ,\n",
              "           1.5538614 ,   -0.799164  ],\n",
              "       ...,\n",
              "       [-304.84702   ,  112.69567   ,  -47.21992   , ...,   -3.0244384 ,\n",
              "           2.6847005 ,    7.674591  ],\n",
              "       [-345.06885   ,  126.78658   ,  -56.18254   , ...,   -7.8130603 ,\n",
              "          -1.766159  ,    5.815883  ],\n",
              "       [-316.331     ,   95.86536   ,  -38.176315  , ...,    0.60944796,\n",
              "         -11.483956  ,   -5.9417224 ]], dtype=float32)"
            ]
          },
          "metadata": {},
          "execution_count": 15
        }
      ]
    },
    {
      "cell_type": "code",
      "source": [
        "y"
      ],
      "metadata": {
        "colab": {
          "base_uri": "https://localhost:8080/"
        },
        "id": "_ZkNBy5XwARx",
        "outputId": "98ced4cb-a40b-41f1-d55f-5c880a47b023"
      },
      "execution_count": null,
      "outputs": [
        {
          "output_type": "execute_result",
          "data": {
            "text/plain": [
              "array(['dog_bark', 'children_playing', 'children_playing', ...,\n",
              "       'car_horn', 'car_horn', 'car_horn'], dtype='<U16')"
            ]
          },
          "metadata": {},
          "execution_count": 17
        }
      ]
    },
    {
      "cell_type": "code",
      "source": [
        "y = np.array(pd.get_dummies(y))\n",
        "y.shape"
      ],
      "metadata": {
        "colab": {
          "base_uri": "https://localhost:8080/"
        },
        "id": "6tK2DPiuvk9V",
        "outputId": "1d9af5f9-39d4-43c2-ea77-8ff863be0b7a"
      },
      "execution_count": null,
      "outputs": [
        {
          "output_type": "execute_result",
          "data": {
            "text/plain": [
              "(8732, 10)"
            ]
          },
          "metadata": {},
          "execution_count": 18
        }
      ]
    },
    {
      "cell_type": "code",
      "source": [
        "y"
      ],
      "metadata": {
        "colab": {
          "base_uri": "https://localhost:8080/"
        },
        "id": "D29o0sxuwJMP",
        "outputId": "9f2aac55-6805-4cdc-ae86-8fda93e1ebc7"
      },
      "execution_count": null,
      "outputs": [
        {
          "output_type": "execute_result",
          "data": {
            "text/plain": [
              "array([[0, 0, 0, ..., 0, 0, 0],\n",
              "       [0, 0, 1, ..., 0, 0, 0],\n",
              "       [0, 0, 1, ..., 0, 0, 0],\n",
              "       ...,\n",
              "       [0, 1, 0, ..., 0, 0, 0],\n",
              "       [0, 1, 0, ..., 0, 0, 0],\n",
              "       [0, 1, 0, ..., 0, 0, 0]], dtype=uint8)"
            ]
          },
          "metadata": {},
          "execution_count": 19
        }
      ]
    },
    {
      "cell_type": "code",
      "source": [
        "from sklearn.model_selection import train_test_split\n",
        "X_train,X_test,y_train,y_test = train_test_split(X, y , test_size = 0.3, random_state = 50)"
      ],
      "metadata": {
        "id": "B2EEHprEvMY5"
      },
      "execution_count": null,
      "outputs": []
    },
    {
      "cell_type": "code",
      "source": [
        "X_train.shape"
      ],
      "metadata": {
        "colab": {
          "base_uri": "https://localhost:8080/"
        },
        "id": "PnMbMt5gy7nZ",
        "outputId": "eeefa00f-c1d8-49e8-f518-f2fc0a1c6c63"
      },
      "execution_count": null,
      "outputs": [
        {
          "output_type": "execute_result",
          "data": {
            "text/plain": [
              "(6112, 40)"
            ]
          },
          "metadata": {},
          "execution_count": 21
        }
      ]
    },
    {
      "cell_type": "code",
      "source": [
        "y_train.shape"
      ],
      "metadata": {
        "colab": {
          "base_uri": "https://localhost:8080/"
        },
        "id": "xi5QnI88CNO4",
        "outputId": "ac8a7616-769a-4180-8caa-1339169dd570"
      },
      "execution_count": null,
      "outputs": [
        {
          "output_type": "execute_result",
          "data": {
            "text/plain": [
              "(6112, 10)"
            ]
          },
          "metadata": {},
          "execution_count": 22
        }
      ]
    },
    {
      "cell_type": "code",
      "source": [
        "num_labels = y.shape[1]\n",
        "num_labels"
      ],
      "metadata": {
        "colab": {
          "base_uri": "https://localhost:8080/"
        },
        "id": "BRBmg9s9BcI0",
        "outputId": "663fd1b7-4812-4b0e-e638-20736984adc3"
      },
      "execution_count": null,
      "outputs": [
        {
          "output_type": "execute_result",
          "data": {
            "text/plain": [
              "10"
            ]
          },
          "metadata": {},
          "execution_count": 23
        }
      ]
    },
    {
      "cell_type": "code",
      "source": [
        "model = Sequential([\n",
        "                    \n",
        "                    layers.Dense(100, input_shape=(40,),activation='relu'),\n",
        "                    layers.Dense(200, activation='relu'),\n",
        "                    layers.Dropout(0.3),\n",
        "                    layers.Dense(100, activation='relu'),\n",
        "                    layers.Dropout(0.3),\n",
        "                    layers.Dense(num_labels, activation='softmax')\n",
        "\n",
        "])\n",
        "model.compile(optimizer = 'adam',\n",
        "              loss = 'categorical_crossentropy',\n",
        "              metrics = 'accuracy')\n",
        "\n",
        "checkpointer = ModelCheckpoint(filepath = 'saved_models/audio_classification.hdf5', save_best_only=True, verbose = 1)\n",
        "\n",
        "start = datetime.now()\n",
        "\n",
        "model.fit(X_train, y_train, batch_size = 32, epochs = 100, validation_data = (X_test, y_test), callbacks = [checkpointer], verbose = 1)\n",
        "\n",
        "end = datetime.now() - start\n",
        "\n",
        "print(end)"
      ],
      "metadata": {
        "id": "daX4QbSLzEIF",
        "colab": {
          "base_uri": "https://localhost:8080/"
        },
        "outputId": "4dc7433c-706a-426f-8752-977f0d7eff80"
      },
      "execution_count": null,
      "outputs": [
        {
          "output_type": "stream",
          "name": "stdout",
          "text": [
            "Epoch 1/100\n",
            "188/191 [============================>.] - ETA: 0s - loss: 3.9452 - accuracy: 0.2251\n",
            "Epoch 1: val_loss improved from inf to 1.78872, saving model to saved_models/audio_classification.hdf5\n",
            "191/191 [==============================] - 2s 5ms/step - loss: 3.9117 - accuracy: 0.2268 - val_loss: 1.7887 - val_accuracy: 0.3992\n",
            "Epoch 2/100\n",
            "185/191 [============================>.] - ETA: 0s - loss: 1.7876 - accuracy: 0.3736\n",
            "Epoch 2: val_loss improved from 1.78872 to 1.42630, saving model to saved_models/audio_classification.hdf5\n",
            "191/191 [==============================] - 1s 4ms/step - loss: 1.7835 - accuracy: 0.3755 - val_loss: 1.4263 - val_accuracy: 0.5248\n",
            "Epoch 3/100\n",
            "176/191 [==========================>...] - ETA: 0s - loss: 1.5577 - accuracy: 0.4640\n",
            "Epoch 3: val_loss improved from 1.42630 to 1.25930, saving model to saved_models/audio_classification.hdf5\n",
            "191/191 [==============================] - 1s 4ms/step - loss: 1.5401 - accuracy: 0.4692 - val_loss: 1.2593 - val_accuracy: 0.5794\n",
            "Epoch 4/100\n",
            "172/191 [==========================>...] - ETA: 0s - loss: 1.3996 - accuracy: 0.5278\n",
            "Epoch 4: val_loss improved from 1.25930 to 1.14018, saving model to saved_models/audio_classification.hdf5\n",
            "191/191 [==============================] - 1s 4ms/step - loss: 1.3867 - accuracy: 0.5332 - val_loss: 1.1402 - val_accuracy: 0.6218\n",
            "Epoch 5/100\n",
            "171/191 [=========================>....] - ETA: 0s - loss: 1.2584 - accuracy: 0.5835\n",
            "Epoch 5: val_loss improved from 1.14018 to 1.08813, saving model to saved_models/audio_classification.hdf5\n",
            "191/191 [==============================] - 1s 4ms/step - loss: 1.2562 - accuracy: 0.5826 - val_loss: 1.0881 - val_accuracy: 0.6378\n",
            "Epoch 6/100\n",
            "179/191 [===========================>..] - ETA: 0s - loss: 1.1886 - accuracy: 0.5995\n",
            "Epoch 6: val_loss improved from 1.08813 to 0.99093, saving model to saved_models/audio_classification.hdf5\n",
            "191/191 [==============================] - 1s 3ms/step - loss: 1.1832 - accuracy: 0.6001 - val_loss: 0.9909 - val_accuracy: 0.6630\n",
            "Epoch 7/100\n",
            "179/191 [===========================>..] - ETA: 0s - loss: 1.0749 - accuracy: 0.6353\n",
            "Epoch 7: val_loss improved from 0.99093 to 0.94532, saving model to saved_models/audio_classification.hdf5\n",
            "191/191 [==============================] - 1s 3ms/step - loss: 1.0761 - accuracy: 0.6353 - val_loss: 0.9453 - val_accuracy: 0.6786\n",
            "Epoch 8/100\n",
            "171/191 [=========================>....] - ETA: 0s - loss: 1.0123 - accuracy: 0.6594\n",
            "Epoch 8: val_loss improved from 0.94532 to 0.87865, saving model to saved_models/audio_classification.hdf5\n",
            "191/191 [==============================] - 1s 4ms/step - loss: 1.0192 - accuracy: 0.6546 - val_loss: 0.8787 - val_accuracy: 0.7015\n",
            "Epoch 9/100\n",
            "176/191 [==========================>...] - ETA: 0s - loss: 0.9753 - accuracy: 0.6621\n",
            "Epoch 9: val_loss improved from 0.87865 to 0.82582, saving model to saved_models/audio_classification.hdf5\n",
            "191/191 [==============================] - 1s 4ms/step - loss: 0.9735 - accuracy: 0.6620 - val_loss: 0.8258 - val_accuracy: 0.7321\n",
            "Epoch 10/100\n",
            "191/191 [==============================] - ETA: 0s - loss: 0.9091 - accuracy: 0.6918\n",
            "Epoch 10: val_loss improved from 0.82582 to 0.80831, saving model to saved_models/audio_classification.hdf5\n",
            "191/191 [==============================] - 1s 3ms/step - loss: 0.9091 - accuracy: 0.6918 - val_loss: 0.8083 - val_accuracy: 0.7378\n",
            "Epoch 11/100\n",
            "173/191 [==========================>...] - ETA: 0s - loss: 0.8518 - accuracy: 0.7079\n",
            "Epoch 11: val_loss improved from 0.80831 to 0.76630, saving model to saved_models/audio_classification.hdf5\n",
            "191/191 [==============================] - 1s 3ms/step - loss: 0.8554 - accuracy: 0.7060 - val_loss: 0.7663 - val_accuracy: 0.7500\n",
            "Epoch 12/100\n",
            "182/191 [===========================>..] - ETA: 0s - loss: 0.8234 - accuracy: 0.7236\n",
            "Epoch 12: val_loss improved from 0.76630 to 0.71508, saving model to saved_models/audio_classification.hdf5\n",
            "191/191 [==============================] - 1s 3ms/step - loss: 0.8198 - accuracy: 0.7235 - val_loss: 0.7151 - val_accuracy: 0.7679\n",
            "Epoch 13/100\n",
            "174/191 [==========================>...] - ETA: 0s - loss: 0.7666 - accuracy: 0.7459\n",
            "Epoch 13: val_loss improved from 0.71508 to 0.70748, saving model to saved_models/audio_classification.hdf5\n",
            "191/191 [==============================] - 1s 3ms/step - loss: 0.7716 - accuracy: 0.7439 - val_loss: 0.7075 - val_accuracy: 0.7775\n",
            "Epoch 14/100\n",
            "176/191 [==========================>...] - ETA: 0s - loss: 0.7250 - accuracy: 0.7520\n",
            "Epoch 14: val_loss improved from 0.70748 to 0.69750, saving model to saved_models/audio_classification.hdf5\n",
            "191/191 [==============================] - 1s 3ms/step - loss: 0.7211 - accuracy: 0.7528 - val_loss: 0.6975 - val_accuracy: 0.7679\n",
            "Epoch 15/100\n",
            "177/191 [==========================>...] - ETA: 0s - loss: 0.7082 - accuracy: 0.7608\n",
            "Epoch 15: val_loss improved from 0.69750 to 0.63623, saving model to saved_models/audio_classification.hdf5\n",
            "191/191 [==============================] - 1s 4ms/step - loss: 0.7064 - accuracy: 0.7605 - val_loss: 0.6362 - val_accuracy: 0.7912\n",
            "Epoch 16/100\n",
            "191/191 [==============================] - ETA: 0s - loss: 0.6793 - accuracy: 0.7688\n",
            "Epoch 16: val_loss improved from 0.63623 to 0.61390, saving model to saved_models/audio_classification.hdf5\n",
            "191/191 [==============================] - 1s 4ms/step - loss: 0.6793 - accuracy: 0.7688 - val_loss: 0.6139 - val_accuracy: 0.8027\n",
            "Epoch 17/100\n",
            "173/191 [==========================>...] - ETA: 0s - loss: 0.6391 - accuracy: 0.7803\n",
            "Epoch 17: val_loss did not improve from 0.61390\n",
            "191/191 [==============================] - 1s 3ms/step - loss: 0.6406 - accuracy: 0.7798 - val_loss: 0.6165 - val_accuracy: 0.7931\n",
            "Epoch 18/100\n",
            "176/191 [==========================>...] - ETA: 0s - loss: 0.6269 - accuracy: 0.7825\n",
            "Epoch 18: val_loss improved from 0.61390 to 0.60473, saving model to saved_models/audio_classification.hdf5\n",
            "191/191 [==============================] - 1s 4ms/step - loss: 0.6229 - accuracy: 0.7827 - val_loss: 0.6047 - val_accuracy: 0.8107\n",
            "Epoch 19/100\n",
            "177/191 [==========================>...] - ETA: 0s - loss: 0.5922 - accuracy: 0.7991\n",
            "Epoch 19: val_loss improved from 0.60473 to 0.57677, saving model to saved_models/audio_classification.hdf5\n",
            "191/191 [==============================] - 1s 4ms/step - loss: 0.5963 - accuracy: 0.7973 - val_loss: 0.5768 - val_accuracy: 0.8195\n",
            "Epoch 20/100\n",
            "186/191 [============================>.] - ETA: 0s - loss: 0.5746 - accuracy: 0.8016\n",
            "Epoch 20: val_loss did not improve from 0.57677\n",
            "191/191 [==============================] - 1s 3ms/step - loss: 0.5746 - accuracy: 0.8017 - val_loss: 0.5872 - val_accuracy: 0.8141\n",
            "Epoch 21/100\n",
            "184/191 [===========================>..] - ETA: 0s - loss: 0.5467 - accuracy: 0.8147\n",
            "Epoch 21: val_loss improved from 0.57677 to 0.54264, saving model to saved_models/audio_classification.hdf5\n",
            "191/191 [==============================] - 1s 3ms/step - loss: 0.5495 - accuracy: 0.8143 - val_loss: 0.5426 - val_accuracy: 0.8202\n",
            "Epoch 22/100\n",
            "177/191 [==========================>...] - ETA: 0s - loss: 0.5415 - accuracy: 0.8106\n",
            "Epoch 22: val_loss improved from 0.54264 to 0.53373, saving model to saved_models/audio_classification.hdf5\n",
            "191/191 [==============================] - 1s 3ms/step - loss: 0.5413 - accuracy: 0.8097 - val_loss: 0.5337 - val_accuracy: 0.8271\n",
            "Epoch 23/100\n",
            "190/191 [============================>.] - ETA: 0s - loss: 0.4952 - accuracy: 0.8303\n",
            "Epoch 23: val_loss improved from 0.53373 to 0.50953, saving model to saved_models/audio_classification.hdf5\n",
            "191/191 [==============================] - 1s 4ms/step - loss: 0.4943 - accuracy: 0.8305 - val_loss: 0.5095 - val_accuracy: 0.8393\n",
            "Epoch 24/100\n",
            "174/191 [==========================>...] - ETA: 0s - loss: 0.4863 - accuracy: 0.8335\n",
            "Epoch 24: val_loss did not improve from 0.50953\n",
            "191/191 [==============================] - 1s 3ms/step - loss: 0.4932 - accuracy: 0.8297 - val_loss: 0.5130 - val_accuracy: 0.8340\n",
            "Epoch 25/100\n",
            "176/191 [==========================>...] - ETA: 0s - loss: 0.4681 - accuracy: 0.8347\n",
            "Epoch 25: val_loss did not improve from 0.50953\n",
            "191/191 [==============================] - 1s 3ms/step - loss: 0.4707 - accuracy: 0.8333 - val_loss: 0.5386 - val_accuracy: 0.8313\n",
            "Epoch 26/100\n",
            "177/191 [==========================>...] - ETA: 0s - loss: 0.4614 - accuracy: 0.8399\n",
            "Epoch 26: val_loss improved from 0.50953 to 0.49596, saving model to saved_models/audio_classification.hdf5\n",
            "191/191 [==============================] - 1s 3ms/step - loss: 0.4601 - accuracy: 0.8403 - val_loss: 0.4960 - val_accuracy: 0.8431\n",
            "Epoch 27/100\n",
            "177/191 [==========================>...] - ETA: 0s - loss: 0.4428 - accuracy: 0.8455\n",
            "Epoch 27: val_loss did not improve from 0.49596\n",
            "191/191 [==============================] - 1s 4ms/step - loss: 0.4397 - accuracy: 0.8467 - val_loss: 0.5031 - val_accuracy: 0.8447\n",
            "Epoch 28/100\n",
            "179/191 [===========================>..] - ETA: 0s - loss: 0.4241 - accuracy: 0.8518\n",
            "Epoch 28: val_loss improved from 0.49596 to 0.48709, saving model to saved_models/audio_classification.hdf5\n",
            "191/191 [==============================] - 1s 4ms/step - loss: 0.4230 - accuracy: 0.8531 - val_loss: 0.4871 - val_accuracy: 0.8511\n",
            "Epoch 29/100\n",
            "189/191 [============================>.] - ETA: 0s - loss: 0.4211 - accuracy: 0.8471\n",
            "Epoch 29: val_loss did not improve from 0.48709\n",
            "191/191 [==============================] - 1s 4ms/step - loss: 0.4220 - accuracy: 0.8464 - val_loss: 0.5044 - val_accuracy: 0.8385\n",
            "Epoch 30/100\n",
            "178/191 [==========================>...] - ETA: 0s - loss: 0.4154 - accuracy: 0.8594\n",
            "Epoch 30: val_loss improved from 0.48709 to 0.48580, saving model to saved_models/audio_classification.hdf5\n",
            "191/191 [==============================] - 1s 3ms/step - loss: 0.4113 - accuracy: 0.8626 - val_loss: 0.4858 - val_accuracy: 0.8469\n",
            "Epoch 31/100\n",
            "180/191 [===========================>..] - ETA: 0s - loss: 0.3927 - accuracy: 0.8635\n",
            "Epoch 31: val_loss did not improve from 0.48580\n",
            "191/191 [==============================] - 1s 3ms/step - loss: 0.3957 - accuracy: 0.8622 - val_loss: 0.5032 - val_accuracy: 0.8504\n",
            "Epoch 32/100\n",
            "176/191 [==========================>...] - ETA: 0s - loss: 0.3901 - accuracy: 0.8647\n",
            "Epoch 32: val_loss improved from 0.48580 to 0.47848, saving model to saved_models/audio_classification.hdf5\n",
            "191/191 [==============================] - 1s 4ms/step - loss: 0.3868 - accuracy: 0.8660 - val_loss: 0.4785 - val_accuracy: 0.8527\n",
            "Epoch 33/100\n",
            "184/191 [===========================>..] - ETA: 0s - loss: 0.3657 - accuracy: 0.8777\n",
            "Epoch 33: val_loss did not improve from 0.47848\n",
            "191/191 [==============================] - 1s 4ms/step - loss: 0.3666 - accuracy: 0.8771 - val_loss: 0.4887 - val_accuracy: 0.8595\n",
            "Epoch 34/100\n",
            "180/191 [===========================>..] - ETA: 0s - loss: 0.3675 - accuracy: 0.8727\n",
            "Epoch 34: val_loss did not improve from 0.47848\n",
            "191/191 [==============================] - 1s 4ms/step - loss: 0.3703 - accuracy: 0.8707 - val_loss: 0.4801 - val_accuracy: 0.8550\n",
            "Epoch 35/100\n",
            "180/191 [===========================>..] - ETA: 0s - loss: 0.3639 - accuracy: 0.8764\n",
            "Epoch 35: val_loss improved from 0.47848 to 0.44885, saving model to saved_models/audio_classification.hdf5\n",
            "191/191 [==============================] - 1s 4ms/step - loss: 0.3634 - accuracy: 0.8766 - val_loss: 0.4488 - val_accuracy: 0.8656\n",
            "Epoch 36/100\n",
            "176/191 [==========================>...] - ETA: 0s - loss: 0.3688 - accuracy: 0.8723\n",
            "Epoch 36: val_loss did not improve from 0.44885\n",
            "191/191 [==============================] - 1s 3ms/step - loss: 0.3686 - accuracy: 0.8725 - val_loss: 0.4799 - val_accuracy: 0.8595\n",
            "Epoch 37/100\n",
            "177/191 [==========================>...] - ETA: 0s - loss: 0.3438 - accuracy: 0.8849\n",
            "Epoch 37: val_loss did not improve from 0.44885\n",
            "191/191 [==============================] - 1s 3ms/step - loss: 0.3412 - accuracy: 0.8868 - val_loss: 0.5095 - val_accuracy: 0.8580\n",
            "Epoch 38/100\n",
            "176/191 [==========================>...] - ETA: 0s - loss: 0.3407 - accuracy: 0.8874\n",
            "Epoch 38: val_loss did not improve from 0.44885\n",
            "191/191 [==============================] - 1s 3ms/step - loss: 0.3375 - accuracy: 0.8886 - val_loss: 0.4615 - val_accuracy: 0.8656\n",
            "Epoch 39/100\n",
            "178/191 [==========================>...] - ETA: 0s - loss: 0.3227 - accuracy: 0.8850\n",
            "Epoch 39: val_loss did not improve from 0.44885\n",
            "191/191 [==============================] - 1s 3ms/step - loss: 0.3210 - accuracy: 0.8856 - val_loss: 0.4851 - val_accuracy: 0.8691\n",
            "Epoch 40/100\n",
            "174/191 [==========================>...] - ETA: 0s - loss: 0.3191 - accuracy: 0.8872\n",
            "Epoch 40: val_loss did not improve from 0.44885\n",
            "191/191 [==============================] - 1s 3ms/step - loss: 0.3183 - accuracy: 0.8884 - val_loss: 0.4510 - val_accuracy: 0.8721\n",
            "Epoch 41/100\n",
            "186/191 [============================>.] - ETA: 0s - loss: 0.3191 - accuracy: 0.8879\n",
            "Epoch 41: val_loss did not improve from 0.44885\n",
            "191/191 [==============================] - 1s 3ms/step - loss: 0.3193 - accuracy: 0.8883 - val_loss: 0.4929 - val_accuracy: 0.8653\n",
            "Epoch 42/100\n",
            "177/191 [==========================>...] - ETA: 0s - loss: 0.3127 - accuracy: 0.8921\n",
            "Epoch 42: val_loss did not improve from 0.44885\n",
            "191/191 [==============================] - 1s 3ms/step - loss: 0.3085 - accuracy: 0.8937 - val_loss: 0.5300 - val_accuracy: 0.8634\n",
            "Epoch 43/100\n",
            "177/191 [==========================>...] - ETA: 0s - loss: 0.2850 - accuracy: 0.9006\n",
            "Epoch 43: val_loss did not improve from 0.44885\n",
            "191/191 [==============================] - 1s 3ms/step - loss: 0.2863 - accuracy: 0.8999 - val_loss: 0.4791 - val_accuracy: 0.8695\n",
            "Epoch 44/100\n",
            "177/191 [==========================>...] - ETA: 0s - loss: 0.2857 - accuracy: 0.9018\n",
            "Epoch 44: val_loss did not improve from 0.44885\n",
            "191/191 [==============================] - 1s 4ms/step - loss: 0.2864 - accuracy: 0.9017 - val_loss: 0.4720 - val_accuracy: 0.8721\n",
            "Epoch 45/100\n",
            "179/191 [===========================>..] - ETA: 0s - loss: 0.2854 - accuracy: 0.9056\n",
            "Epoch 45: val_loss improved from 0.44885 to 0.44056, saving model to saved_models/audio_classification.hdf5\n",
            "191/191 [==============================] - 1s 4ms/step - loss: 0.2844 - accuracy: 0.9041 - val_loss: 0.4406 - val_accuracy: 0.8775\n",
            "Epoch 46/100\n",
            "185/191 [============================>.] - ETA: 0s - loss: 0.2783 - accuracy: 0.9032\n",
            "Epoch 46: val_loss did not improve from 0.44056\n",
            "191/191 [==============================] - 1s 3ms/step - loss: 0.2795 - accuracy: 0.9033 - val_loss: 0.4814 - val_accuracy: 0.8729\n",
            "Epoch 47/100\n",
            "179/191 [===========================>..] - ETA: 0s - loss: 0.2638 - accuracy: 0.9073\n",
            "Epoch 47: val_loss did not improve from 0.44056\n",
            "191/191 [==============================] - 1s 3ms/step - loss: 0.2671 - accuracy: 0.9059 - val_loss: 0.4940 - val_accuracy: 0.8656\n",
            "Epoch 48/100\n",
            "172/191 [==========================>...] - ETA: 0s - loss: 0.2644 - accuracy: 0.9082\n",
            "Epoch 48: val_loss did not improve from 0.44056\n",
            "191/191 [==============================] - 1s 4ms/step - loss: 0.2620 - accuracy: 0.9084 - val_loss: 0.4569 - val_accuracy: 0.8775\n",
            "Epoch 49/100\n",
            "174/191 [==========================>...] - ETA: 0s - loss: 0.2577 - accuracy: 0.9109\n",
            "Epoch 49: val_loss did not improve from 0.44056\n",
            "191/191 [==============================] - 1s 3ms/step - loss: 0.2630 - accuracy: 0.9089 - val_loss: 0.4786 - val_accuracy: 0.8721\n",
            "Epoch 50/100\n",
            "177/191 [==========================>...] - ETA: 0s - loss: 0.2697 - accuracy: 0.9077\n",
            "Epoch 50: val_loss did not improve from 0.44056\n",
            "191/191 [==============================] - 1s 3ms/step - loss: 0.2701 - accuracy: 0.9087 - val_loss: 0.4864 - val_accuracy: 0.8805\n",
            "Epoch 51/100\n",
            "178/191 [==========================>...] - ETA: 0s - loss: 0.2606 - accuracy: 0.9094\n",
            "Epoch 51: val_loss did not improve from 0.44056\n",
            "191/191 [==============================] - 1s 3ms/step - loss: 0.2602 - accuracy: 0.9100 - val_loss: 0.4861 - val_accuracy: 0.8672\n",
            "Epoch 52/100\n",
            "181/191 [===========================>..] - ETA: 0s - loss: 0.2540 - accuracy: 0.9140\n",
            "Epoch 52: val_loss did not improve from 0.44056\n",
            "191/191 [==============================] - 1s 3ms/step - loss: 0.2537 - accuracy: 0.9143 - val_loss: 0.5262 - val_accuracy: 0.8744\n",
            "Epoch 53/100\n",
            "176/191 [==========================>...] - ETA: 0s - loss: 0.2432 - accuracy: 0.9167\n",
            "Epoch 53: val_loss did not improve from 0.44056\n",
            "191/191 [==============================] - 1s 3ms/step - loss: 0.2481 - accuracy: 0.9156 - val_loss: 0.5093 - val_accuracy: 0.8813\n",
            "Epoch 54/100\n",
            "190/191 [============================>.] - ETA: 0s - loss: 0.2457 - accuracy: 0.9158\n",
            "Epoch 54: val_loss did not improve from 0.44056\n",
            "191/191 [==============================] - 1s 4ms/step - loss: 0.2463 - accuracy: 0.9156 - val_loss: 0.5171 - val_accuracy: 0.8725\n",
            "Epoch 55/100\n",
            "188/191 [============================>.] - ETA: 0s - loss: 0.2379 - accuracy: 0.9187\n",
            "Epoch 55: val_loss did not improve from 0.44056\n",
            "191/191 [==============================] - 1s 4ms/step - loss: 0.2396 - accuracy: 0.9179 - val_loss: 0.4866 - val_accuracy: 0.8779\n",
            "Epoch 56/100\n",
            "179/191 [===========================>..] - ETA: 0s - loss: 0.2417 - accuracy: 0.9152\n",
            "Epoch 56: val_loss did not improve from 0.44056\n",
            "191/191 [==============================] - 1s 4ms/step - loss: 0.2438 - accuracy: 0.9144 - val_loss: 0.4934 - val_accuracy: 0.8790\n",
            "Epoch 57/100\n",
            "181/191 [===========================>..] - ETA: 0s - loss: 0.2284 - accuracy: 0.9232\n",
            "Epoch 57: val_loss did not improve from 0.44056\n",
            "191/191 [==============================] - 1s 4ms/step - loss: 0.2278 - accuracy: 0.9238 - val_loss: 0.4714 - val_accuracy: 0.8828\n",
            "Epoch 58/100\n",
            "185/191 [============================>.] - ETA: 0s - loss: 0.2418 - accuracy: 0.9231\n",
            "Epoch 58: val_loss did not improve from 0.44056\n",
            "191/191 [==============================] - 1s 3ms/step - loss: 0.2407 - accuracy: 0.9231 - val_loss: 0.4746 - val_accuracy: 0.8821\n",
            "Epoch 59/100\n",
            "175/191 [==========================>...] - ETA: 0s - loss: 0.2207 - accuracy: 0.9255\n",
            "Epoch 59: val_loss did not improve from 0.44056\n",
            "191/191 [==============================] - 1s 4ms/step - loss: 0.2221 - accuracy: 0.9246 - val_loss: 0.5013 - val_accuracy: 0.8836\n",
            "Epoch 60/100\n",
            "188/191 [============================>.] - ETA: 0s - loss: 0.2265 - accuracy: 0.9244\n",
            "Epoch 60: val_loss did not improve from 0.44056\n",
            "191/191 [==============================] - 1s 3ms/step - loss: 0.2276 - accuracy: 0.9241 - val_loss: 0.4719 - val_accuracy: 0.8870\n",
            "Epoch 61/100\n",
            "184/191 [===========================>..] - ETA: 0s - loss: 0.2106 - accuracy: 0.9285\n",
            "Epoch 61: val_loss did not improve from 0.44056\n",
            "191/191 [==============================] - 1s 4ms/step - loss: 0.2095 - accuracy: 0.9285 - val_loss: 0.5447 - val_accuracy: 0.8786\n",
            "Epoch 62/100\n",
            "191/191 [==============================] - ETA: 0s - loss: 0.2366 - accuracy: 0.9206\n",
            "Epoch 62: val_loss did not improve from 0.44056\n",
            "191/191 [==============================] - 1s 4ms/step - loss: 0.2366 - accuracy: 0.9206 - val_loss: 0.4906 - val_accuracy: 0.8824\n",
            "Epoch 63/100\n",
            "186/191 [============================>.] - ETA: 0s - loss: 0.2341 - accuracy: 0.9158\n",
            "Epoch 63: val_loss did not improve from 0.44056\n",
            "191/191 [==============================] - 1s 3ms/step - loss: 0.2325 - accuracy: 0.9157 - val_loss: 0.4893 - val_accuracy: 0.8824\n",
            "Epoch 64/100\n",
            "183/191 [===========================>..] - ETA: 0s - loss: 0.2126 - accuracy: 0.9213\n",
            "Epoch 64: val_loss did not improve from 0.44056\n",
            "191/191 [==============================] - 1s 4ms/step - loss: 0.2172 - accuracy: 0.9210 - val_loss: 0.4747 - val_accuracy: 0.8851\n",
            "Epoch 65/100\n",
            "191/191 [==============================] - ETA: 0s - loss: 0.2172 - accuracy: 0.9267\n",
            "Epoch 65: val_loss did not improve from 0.44056\n",
            "191/191 [==============================] - 1s 3ms/step - loss: 0.2172 - accuracy: 0.9267 - val_loss: 0.4861 - val_accuracy: 0.8836\n",
            "Epoch 66/100\n",
            "174/191 [==========================>...] - ETA: 0s - loss: 0.2042 - accuracy: 0.9267\n",
            "Epoch 66: val_loss did not improve from 0.44056\n",
            "191/191 [==============================] - 1s 3ms/step - loss: 0.2022 - accuracy: 0.9277 - val_loss: 0.4795 - val_accuracy: 0.8882\n",
            "Epoch 67/100\n",
            "182/191 [===========================>..] - ETA: 0s - loss: 0.2036 - accuracy: 0.9306\n",
            "Epoch 67: val_loss did not improve from 0.44056\n",
            "191/191 [==============================] - 1s 5ms/step - loss: 0.2055 - accuracy: 0.9306 - val_loss: 0.5072 - val_accuracy: 0.8870\n",
            "Epoch 68/100\n",
            "178/191 [==========================>...] - ETA: 0s - loss: 0.1861 - accuracy: 0.9359\n",
            "Epoch 68: val_loss did not improve from 0.44056\n",
            "191/191 [==============================] - 1s 5ms/step - loss: 0.1838 - accuracy: 0.9364 - val_loss: 0.5108 - val_accuracy: 0.8901\n",
            "Epoch 69/100\n",
            "184/191 [===========================>..] - ETA: 0s - loss: 0.1961 - accuracy: 0.9341\n",
            "Epoch 69: val_loss did not improve from 0.44056\n",
            "191/191 [==============================] - 1s 4ms/step - loss: 0.1998 - accuracy: 0.9331 - val_loss: 0.4830 - val_accuracy: 0.8874\n",
            "Epoch 70/100\n",
            "191/191 [==============================] - ETA: 0s - loss: 0.1947 - accuracy: 0.9318\n",
            "Epoch 70: val_loss did not improve from 0.44056\n",
            "191/191 [==============================] - 1s 4ms/step - loss: 0.1947 - accuracy: 0.9318 - val_loss: 0.5059 - val_accuracy: 0.8931\n",
            "Epoch 71/100\n",
            "181/191 [===========================>..] - ETA: 0s - loss: 0.1934 - accuracy: 0.9346\n",
            "Epoch 71: val_loss did not improve from 0.44056\n",
            "191/191 [==============================] - 1s 4ms/step - loss: 0.1931 - accuracy: 0.9347 - val_loss: 0.5136 - val_accuracy: 0.8874\n",
            "Epoch 72/100\n",
            "185/191 [============================>.] - ETA: 0s - loss: 0.1968 - accuracy: 0.9323\n",
            "Epoch 72: val_loss did not improve from 0.44056\n",
            "191/191 [==============================] - 1s 4ms/step - loss: 0.1952 - accuracy: 0.9324 - val_loss: 0.5058 - val_accuracy: 0.8844\n",
            "Epoch 73/100\n",
            "181/191 [===========================>..] - ETA: 0s - loss: 0.2089 - accuracy: 0.9301\n",
            "Epoch 73: val_loss did not improve from 0.44056\n",
            "191/191 [==============================] - 1s 4ms/step - loss: 0.2063 - accuracy: 0.9300 - val_loss: 0.5222 - val_accuracy: 0.8927\n",
            "Epoch 74/100\n",
            "176/191 [==========================>...] - ETA: 0s - loss: 0.1921 - accuracy: 0.9334\n",
            "Epoch 74: val_loss did not improve from 0.44056\n",
            "191/191 [==============================] - 1s 5ms/step - loss: 0.1944 - accuracy: 0.9314 - val_loss: 0.5069 - val_accuracy: 0.8889\n",
            "Epoch 75/100\n",
            "188/191 [============================>.] - ETA: 0s - loss: 0.1982 - accuracy: 0.9342\n",
            "Epoch 75: val_loss did not improve from 0.44056\n",
            "191/191 [==============================] - 1s 3ms/step - loss: 0.1970 - accuracy: 0.9347 - val_loss: 0.5365 - val_accuracy: 0.8847\n",
            "Epoch 76/100\n",
            "180/191 [===========================>..] - ETA: 0s - loss: 0.1930 - accuracy: 0.9361\n",
            "Epoch 76: val_loss did not improve from 0.44056\n",
            "191/191 [==============================] - 1s 4ms/step - loss: 0.1948 - accuracy: 0.9350 - val_loss: 0.5410 - val_accuracy: 0.8866\n",
            "Epoch 77/100\n",
            "177/191 [==========================>...] - ETA: 0s - loss: 0.1916 - accuracy: 0.9356\n",
            "Epoch 77: val_loss did not improve from 0.44056\n",
            "191/191 [==============================] - 1s 4ms/step - loss: 0.1910 - accuracy: 0.9359 - val_loss: 0.4959 - val_accuracy: 0.8794\n",
            "Epoch 78/100\n",
            "186/191 [============================>.] - ETA: 0s - loss: 0.1664 - accuracy: 0.9432\n",
            "Epoch 78: val_loss did not improve from 0.44056\n",
            "191/191 [==============================] - 1s 4ms/step - loss: 0.1672 - accuracy: 0.9434 - val_loss: 0.4934 - val_accuracy: 0.8885\n",
            "Epoch 79/100\n",
            "190/191 [============================>.] - ETA: 0s - loss: 0.1782 - accuracy: 0.9408\n",
            "Epoch 79: val_loss did not improve from 0.44056\n",
            "191/191 [==============================] - 1s 4ms/step - loss: 0.1786 - accuracy: 0.9406 - val_loss: 0.4772 - val_accuracy: 0.8950\n",
            "Epoch 80/100\n",
            "190/191 [============================>.] - ETA: 0s - loss: 0.1901 - accuracy: 0.9354\n",
            "Epoch 80: val_loss did not improve from 0.44056\n",
            "191/191 [==============================] - 1s 3ms/step - loss: 0.1896 - accuracy: 0.9354 - val_loss: 0.4573 - val_accuracy: 0.8985\n",
            "Epoch 81/100\n",
            "178/191 [==========================>...] - ETA: 0s - loss: 0.2054 - accuracy: 0.9322\n",
            "Epoch 81: val_loss did not improve from 0.44056\n",
            "191/191 [==============================] - 1s 3ms/step - loss: 0.2027 - accuracy: 0.9334 - val_loss: 0.4822 - val_accuracy: 0.8992\n",
            "Epoch 82/100\n",
            "189/191 [============================>.] - ETA: 0s - loss: 0.1684 - accuracy: 0.9426\n",
            "Epoch 82: val_loss did not improve from 0.44056\n",
            "191/191 [==============================] - 1s 4ms/step - loss: 0.1688 - accuracy: 0.9424 - val_loss: 0.4844 - val_accuracy: 0.8924\n",
            "Epoch 83/100\n",
            "183/191 [===========================>..] - ETA: 0s - loss: 0.1658 - accuracy: 0.9428\n",
            "Epoch 83: val_loss did not improve from 0.44056\n",
            "191/191 [==============================] - 1s 3ms/step - loss: 0.1669 - accuracy: 0.9429 - val_loss: 0.4846 - val_accuracy: 0.8981\n",
            "Epoch 84/100\n",
            "179/191 [===========================>..] - ETA: 0s - loss: 0.1757 - accuracy: 0.9403\n",
            "Epoch 84: val_loss did not improve from 0.44056\n",
            "191/191 [==============================] - 1s 4ms/step - loss: 0.1756 - accuracy: 0.9400 - val_loss: 0.5340 - val_accuracy: 0.8889\n",
            "Epoch 85/100\n",
            "184/191 [===========================>..] - ETA: 0s - loss: 0.1702 - accuracy: 0.9436\n",
            "Epoch 85: val_loss did not improve from 0.44056\n",
            "191/191 [==============================] - 1s 4ms/step - loss: 0.1730 - accuracy: 0.9429 - val_loss: 0.4921 - val_accuracy: 0.8950\n",
            "Epoch 86/100\n",
            "182/191 [===========================>..] - ETA: 0s - loss: 0.1653 - accuracy: 0.9413\n",
            "Epoch 86: val_loss did not improve from 0.44056\n",
            "191/191 [==============================] - 1s 4ms/step - loss: 0.1621 - accuracy: 0.9422 - val_loss: 0.5052 - val_accuracy: 0.8939\n",
            "Epoch 87/100\n",
            "178/191 [==========================>...] - ETA: 0s - loss: 0.1593 - accuracy: 0.9450\n",
            "Epoch 87: val_loss did not improve from 0.44056\n",
            "191/191 [==============================] - 1s 4ms/step - loss: 0.1608 - accuracy: 0.9445 - val_loss: 0.5489 - val_accuracy: 0.8878\n",
            "Epoch 88/100\n",
            "176/191 [==========================>...] - ETA: 0s - loss: 0.1862 - accuracy: 0.9396\n",
            "Epoch 88: val_loss did not improve from 0.44056\n",
            "191/191 [==============================] - 1s 4ms/step - loss: 0.1817 - accuracy: 0.9413 - val_loss: 0.4669 - val_accuracy: 0.8958\n",
            "Epoch 89/100\n",
            "175/191 [==========================>...] - ETA: 0s - loss: 0.1518 - accuracy: 0.9473\n",
            "Epoch 89: val_loss did not improve from 0.44056\n",
            "191/191 [==============================] - 1s 4ms/step - loss: 0.1495 - accuracy: 0.9470 - val_loss: 0.4722 - val_accuracy: 0.9015\n",
            "Epoch 90/100\n",
            "176/191 [==========================>...] - ETA: 0s - loss: 0.1477 - accuracy: 0.9490\n",
            "Epoch 90: val_loss did not improve from 0.44056\n",
            "191/191 [==============================] - 1s 4ms/step - loss: 0.1562 - accuracy: 0.9470 - val_loss: 0.5458 - val_accuracy: 0.8901\n",
            "Epoch 91/100\n",
            "190/191 [============================>.] - ETA: 0s - loss: 0.1960 - accuracy: 0.9373\n",
            "Epoch 91: val_loss did not improve from 0.44056\n",
            "191/191 [==============================] - 1s 4ms/step - loss: 0.1959 - accuracy: 0.9372 - val_loss: 0.5247 - val_accuracy: 0.8966\n",
            "Epoch 92/100\n",
            "178/191 [==========================>...] - ETA: 0s - loss: 0.1726 - accuracy: 0.9415\n",
            "Epoch 92: val_loss did not improve from 0.44056\n",
            "191/191 [==============================] - 1s 4ms/step - loss: 0.1747 - accuracy: 0.9404 - val_loss: 0.4692 - val_accuracy: 0.8996\n",
            "Epoch 93/100\n",
            "181/191 [===========================>..] - ETA: 0s - loss: 0.1439 - accuracy: 0.9480\n",
            "Epoch 93: val_loss did not improve from 0.44056\n",
            "191/191 [==============================] - 1s 4ms/step - loss: 0.1440 - accuracy: 0.9481 - val_loss: 0.5217 - val_accuracy: 0.8977\n",
            "Epoch 94/100\n",
            "175/191 [==========================>...] - ETA: 0s - loss: 0.1481 - accuracy: 0.9525\n",
            "Epoch 94: val_loss did not improve from 0.44056\n",
            "191/191 [==============================] - 1s 3ms/step - loss: 0.1522 - accuracy: 0.9499 - val_loss: 0.5231 - val_accuracy: 0.8973\n",
            "Epoch 95/100\n",
            "173/191 [==========================>...] - ETA: 0s - loss: 0.1717 - accuracy: 0.9398\n",
            "Epoch 95: val_loss did not improve from 0.44056\n",
            "191/191 [==============================] - 1s 3ms/step - loss: 0.1706 - accuracy: 0.9400 - val_loss: 0.5476 - val_accuracy: 0.8924\n",
            "Epoch 96/100\n",
            "172/191 [==========================>...] - ETA: 0s - loss: 0.1522 - accuracy: 0.9489\n",
            "Epoch 96: val_loss did not improve from 0.44056\n",
            "191/191 [==============================] - 1s 4ms/step - loss: 0.1524 - accuracy: 0.9485 - val_loss: 0.5429 - val_accuracy: 0.8992\n",
            "Epoch 97/100\n",
            "174/191 [==========================>...] - ETA: 0s - loss: 0.1545 - accuracy: 0.9506\n",
            "Epoch 97: val_loss did not improve from 0.44056\n",
            "191/191 [==============================] - 1s 4ms/step - loss: 0.1564 - accuracy: 0.9498 - val_loss: 0.5488 - val_accuracy: 0.8981\n",
            "Epoch 98/100\n",
            "190/191 [============================>.] - ETA: 0s - loss: 0.1434 - accuracy: 0.9521\n",
            "Epoch 98: val_loss did not improve from 0.44056\n",
            "191/191 [==============================] - 1s 4ms/step - loss: 0.1433 - accuracy: 0.9522 - val_loss: 0.5319 - val_accuracy: 0.8973\n",
            "Epoch 99/100\n",
            "186/191 [============================>.] - ETA: 0s - loss: 0.1572 - accuracy: 0.9506\n",
            "Epoch 99: val_loss did not improve from 0.44056\n",
            "191/191 [==============================] - 1s 4ms/step - loss: 0.1575 - accuracy: 0.9506 - val_loss: 0.5485 - val_accuracy: 0.8958\n",
            "Epoch 100/100\n",
            "176/191 [==========================>...] - ETA: 0s - loss: 0.1804 - accuracy: 0.9403\n",
            "Epoch 100: val_loss did not improve from 0.44056\n",
            "191/191 [==============================] - 1s 3ms/step - loss: 0.1789 - accuracy: 0.9404 - val_loss: 0.5363 - val_accuracy: 0.8859\n",
            "0:01:22.876856\n"
          ]
        }
      ]
    },
    {
      "cell_type": "code",
      "source": [
        "accuracy = model.evaluate(X_test, y_test, verbose = 1)\n",
        "accuracy"
      ],
      "metadata": {
        "colab": {
          "base_uri": "https://localhost:8080/"
        },
        "id": "a0wmy0VLPRld",
        "outputId": "0b463f90-4b89-49f3-e787-d25de57e32a0"
      },
      "execution_count": null,
      "outputs": [
        {
          "output_type": "stream",
          "name": "stdout",
          "text": [
            "82/82 [==============================] - 0s 2ms/step - loss: 0.5363 - accuracy: 0.8859\n"
          ]
        },
        {
          "output_type": "execute_result",
          "data": {
            "text/plain": [
              "[0.5363051891326904, 0.8858778476715088]"
            ]
          },
          "metadata": {},
          "execution_count": 26
        }
      ]
    }
  ]
}